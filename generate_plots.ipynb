{
 "cells": [
  {
   "cell_type": "markdown",
   "id": "2e00f942",
   "metadata": {},
   "source": [
    "# Reimplementing a Choice-Based Revenue Management Simulation\n",
    "\n",
    "We reimplement Simulation 2 from \"Revenue Management Under a General Discrete Choice Model of Consumer Behavior\" by Talluri and van Ryzin 2004. "
   ]
  },
  {
   "cell_type": "code",
   "execution_count": 1,
   "id": "0ad6af18",
   "metadata": {},
   "outputs": [],
   "source": [
    "import numpy as np\n",
    "import scipy.stats as stats\n",
    "\n",
    "from data import REVENUES\n",
    "from choice import choice_dp_tabulate, mnl\n",
    "from simulation import simulate, calculate_statistics, confidence_interval, precompute_emsr_assortments\n",
    "\n",
    "np.random.seed(0)  # For reproducibility"
   ]
  },
  {
   "cell_type": "code",
   "execution_count": 2,
   "id": "59553ccf",
   "metadata": {},
   "outputs": [],
   "source": [
    "# Problem Constants\n",
    "C = 185\n",
    "T = 410\n",
    "mean_demand = 205\n",
    "n = len(REVENUES)\n",
    "arrival_rate = 0.5\n",
    "# high is -0.005, low is -0.0015, we will calculate a range of betas\n",
    "beta = -0.0015\n",
    "U = np.array(REVENUES, dtype=float) * beta\n",
    "w = np.exp(U)"
   ]
  },
  {
   "cell_type": "code",
   "execution_count": 3,
   "id": "476ebe3a",
   "metadata": {},
   "outputs": [],
   "source": [
    "# Implement Choice by solving DP\n",
    "value_fcn, action_fcn = choice_dp_tabulate(arrival_rate, C, T, list(REVENUES), list(U), mnl)\n",
    "# Implement EMSR by precomputing for each x, t remaining\n",
    "emsr_assort = precompute_emsr_assortments(C, T, mean_demand, n)"
   ]
  },
  {
   "cell_type": "code",
   "execution_count": 4,
   "id": "6569af9a",
   "metadata": {},
   "outputs": [
    {
     "name": "stdout",
     "output_type": "stream",
     "text": [
      "Average EMSR Load Factor: (0.8451793425681697, 0.8515449817561547)\n",
      "Average MNL Load Factor: (0.7160225057672059, 0.7244639807192804)\n",
      "Average EMSR Revenue: (57776.10634791489, 58386.66365208512)\n",
      "Average MNL Revenue: (65925.25467707166, 66719.84532292835)\n"
     ]
    }
   ],
   "source": [
    "replications = 1000\n",
    "average_esmr_load_factor = []\n",
    "average_mnl_load_factor = []\n",
    "average_esmr_revenue = []\n",
    "average_mnl_revenue = []\n",
    "\n",
    "for i in range(replications):\n",
    "    esmr_purchases, mnl_purchases = simulate(T, C, arrival_rate, w, emsr_assort, action_fcn)\n",
    "    esmr_load_factor, esmr_revenue = calculate_statistics(esmr_purchases, C)\n",
    "    mnl_load_factor, mnl_revenue = calculate_statistics(mnl_purchases, C)\n",
    "\n",
    "    average_esmr_load_factor.append(esmr_load_factor)\n",
    "    average_mnl_load_factor.append(mnl_load_factor)\n",
    "    average_esmr_revenue.append(esmr_revenue)\n",
    "    average_mnl_revenue.append(mnl_revenue)\n",
    "\n",
    "print(\"Average EMSR Load Factor:\", confidence_interval(average_esmr_load_factor))\n",
    "print(\"Average MNL Load Factor:\", confidence_interval(average_mnl_load_factor))\n",
    "print(\"Average EMSR Revenue:\", confidence_interval(average_esmr_revenue))\n",
    "print(\"Average MNL Revenue:\", confidence_interval(average_mnl_revenue))"
   ]
  }
 ],
 "metadata": {
  "kernelspec": {
   "display_name": "research",
   "language": "python",
   "name": "python3"
  },
  "language_info": {
   "codemirror_mode": {
    "name": "ipython",
    "version": 3
   },
   "file_extension": ".py",
   "mimetype": "text/x-python",
   "name": "python",
   "nbconvert_exporter": "python",
   "pygments_lexer": "ipython3",
   "version": "3.11.5"
  }
 },
 "nbformat": 4,
 "nbformat_minor": 5
}
